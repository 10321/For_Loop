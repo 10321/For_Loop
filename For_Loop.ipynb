{
  "nbformat": 4,
  "nbformat_minor": 0,
  "metadata": {
    "colab": {
      "provenance": []
    },
    "kernelspec": {
      "name": "python3",
      "display_name": "Python 3"
    },
    "language_info": {
      "name": "python"
    }
  },
  "cells": [
    {
      "cell_type": "code",
      "execution_count": null,
      "metadata": {
        "id": "PmpysZlsFgpU"
      },
      "outputs": [],
      "source": [
        "# BASIC LEVEL:\n",
        "\n",
        "# Printing numbers from 1 to 10 using a for loop\n",
        "for i in range(1, 11):\n",
        "    print(i)\n",
        "\n",
        "\n",
        "# Calculating the sum of all numbers in a list using a for loop\n",
        "def sum_list(numbers):\n",
        "    total = 0\n",
        "    for number in numbers:\n",
        "        total += number\n",
        "    return total\n",
        "\n",
        "numbers = [1, 2, 3, 4, 5]\n",
        "print(sum_list(numbers))\n",
        "\n",
        "\n",
        "# Printing the characters of a string in reverse order using a for loop\n",
        "def reverse_string(string):\n",
        "    reversed_string = \"\"\n",
        "    for i in range(len(string) - 1, -1, -1):\n",
        "        reversed_string += string[i]\n",
        "    return reversed_string\n",
        "\n",
        "string = \"Hello, world!\"\n",
        "print(reverse_string(string))\n",
        "\n",
        "\n",
        "# Finding the factorial of a given number using a for loop\n",
        "def factorial(number):\n",
        "    factorial = 1\n",
        "    for i in range(1, number + 1):\n",
        "        factorial *= i\n",
        "    return factorial\n",
        "\n",
        "number = 5\n",
        "print(factorial(number))\n",
        "\n",
        "\n",
        "# Printing the multiplication table of a given number using a for loop\n",
        "def multiplication_table(number):\n",
        "    for i in range(1, 11):\n",
        "        print(f\"{number} x {i} = {number * i}\")\n",
        "\n",
        "number = 7\n",
        "multiplication_table(number)\n",
        "\n",
        "\n",
        "# Counting the number of even and odd numbers in a list using a for loop\n",
        "def count_even_odd(numbers):\n",
        "    even_count = 0\n",
        "    odd_count = 0\n",
        "    for number in numbers:\n",
        "        if number % 2 == 0:\n",
        "            even_count += 1\n",
        "        else:\n",
        "            odd_count += 1\n",
        "    return even_count, odd_count\n",
        "\n",
        "numbers = [1, 2, 3, 4, 5, 6, 7, 8, 9, 10]\n",
        "even_count, odd_count = count_even_odd(numbers)\n",
        "print(f\"Even numbers: {even_count}\")\n",
        "print(f\"Odd numbers: {odd_count}\")\n",
        "\n",
        "\n",
        "# Printing the squares of numbers from 1 to 5 using a for loop\n",
        "def print_squares(number):\n",
        "    for i in range(1, number + 1):\n",
        "        print(f\"{i}^2 = {i * i}\")\n",
        "\n",
        "number = 5\n",
        "print_squares(number)\n",
        "\n",
        "\n",
        "# Finding the length of a string without using the len() function\n",
        "def string_length(string):\n",
        "    length = 0\n",
        "    for character in string:\n",
        "        length += 1\n",
        "    return length\n",
        "\n",
        "string = \"Hello, world!\"\n",
        "print(string_length(string))\n",
        "\n",
        "\n",
        "# Calculating the average of a list of numbers using a for loop\n",
        "def average_list(numbers):\n",
        "    total = 0\n",
        "    for number in numbers:\n",
        "        total += number\n",
        "    average = total / len(numbers)\n",
        "    return average\n",
        "\n",
        "numbers = [1, 2, 3, 4, 5]\n",
        "print(average_list(numbers))\n",
        "\n",
        "\n",
        "# Printing the first n Fibonacci numbers using a for loop\n",
        "def print_fibonacci(n):\n",
        "    fib_sequence = [0, 1]\n",
        "\n",
        "    for i in range(2, n):\n",
        "        next_fib = fib_sequence[-1] + fib_sequence[-2]\n",
        "        fib_sequence.append(next_fib)\n",
        "\n",
        "    for num in fib_sequence[:n]:\n",
        "        print(num)\n",
        "\n",
        "# printing the first 10 Fibonacci numbers\n",
        "print_fibonacci(10)\n",
        "\n"
      ]
    },
    {
      "cell_type": "code",
      "source": [
        "# Intermediate Level:"
      ],
      "metadata": {
        "id": "JWlYMeQAHVJh"
      },
      "execution_count": null,
      "outputs": []
    },
    {
      "cell_type": "code",
      "source": [
        "#11. Check for duplicates in a list:\n",
        "def check_duplicates(list1):\n",
        "    for i in range(len(list1)):\n",
        "        for j in range(i + 1, len(list1)):\n",
        "            if list1[i] == list1[j]:\n",
        "                return True\n",
        "    return False\n",
        "\n",
        "# Example: checking for duplicates in the list [1, 2, 3, 4, 5, 1, 2, 3]\n",
        "list1 = [1, 2, 3, 4, 5, 1, 2, 3]\n",
        "print(check_duplicates(list1))  # Output: True\n"
      ],
      "metadata": {
        "id": "G94fBtBmH-W-",
        "colab": {
          "base_uri": "https://localhost:8080/"
        },
        "outputId": "2b8adfec-6dfb-40c3-9b6d-e10ae2056b02"
      },
      "execution_count": 3,
      "outputs": [
        {
          "output_type": "stream",
          "name": "stdout",
          "text": [
            "True\n"
          ]
        }
      ]
    },
    {
      "cell_type": "code",
      "source": [
        "#12. Print prime numbers in a range:\n",
        "def print_prime(n):\n",
        "    print(\"Prime numbers in the range 1 to\", n, \":\")\n",
        "    for num in range(2, n + 1):\n",
        "        is_prime = True\n",
        "        for i in range(2, int(num ** 0.5) + 1):\n",
        "            if num % i == 0:\n",
        "                is_prime = False\n",
        "                break\n",
        "        if is_prime:\n",
        "            print(num, end=\" \")\n",
        "\n",
        "# Example: printing prime numbers in the range 1 to 100\n",
        "print_prime(100)\n",
        "\n"
      ],
      "metadata": {
        "colab": {
          "base_uri": "https://localhost:8080/"
        },
        "id": "tdxQYX0UIQvq",
        "outputId": "e03a689c-a608-4ea5-b355-b2d373ccd3c8"
      },
      "execution_count": 4,
      "outputs": [
        {
          "output_type": "stream",
          "name": "stdout",
          "text": [
            "Prime numbers in the range 1 to 100 :\n",
            "2 3 5 7 11 13 17 19 23 29 31 37 41 43 47 53 59 61 67 71 73 79 83 89 97 "
          ]
        }
      ]
    },
    {
      "cell_type": "code",
      "source": [
        "#13. Count vowels in a string:\n",
        "def count_vowels(string):\n",
        "    vowels = \"aeiouAEIOU\"\n",
        "    count = 0\n",
        "    for char in string:\n",
        "        if char in vowels:\n",
        "            count += 1\n",
        "    return count\n",
        "\n",
        "# Example: counting vowels in the string \"Hello, world!\"\n",
        "string = \"Hello, world!\"\n",
        "print(\"Number of vowels in\", string, \":\", count_vowels(string))\n"
      ],
      "metadata": {
        "colab": {
          "base_uri": "https://localhost:8080/"
        },
        "id": "DRxWcH6uIYYV",
        "outputId": "05aeb205-990e-45e4-a299-f4d677ec5748"
      },
      "execution_count": 5,
      "outputs": [
        {
          "output_type": "stream",
          "name": "stdout",
          "text": [
            "Number of vowels in Hello, world! : 3\n"
          ]
        }
      ]
    },
    {
      "cell_type": "code",
      "source": [
        "#14. Find maximum element in a 2D list:\n",
        "def find_max_2d(list2d):\n",
        "    max_value = list2d[0][0]\n",
        "    for row in list2d:\n",
        "        for element in row:\n",
        "            if element > max_value:\n",
        "                max_value = element\n",
        "    return max_value\n",
        "\n",
        "# Example: finding the maximum element in the 2D list [[1, 2, 3], [4, 5, 6], [7, 8, 9]]\n",
        "list2d = [[1, 2, 3], [4, 5, 6], [7, 8, 9]]\n",
        "print(\"Maximum element in the 2D list:\", find_max_2d(list2d))\n"
      ],
      "metadata": {
        "colab": {
          "base_uri": "https://localhost:8080/"
        },
        "id": "DOq6klE6IdvT",
        "outputId": "fdd99fcb-7ba3-4ac1-8e35-9f13422916b1"
      },
      "execution_count": 6,
      "outputs": [
        {
          "output_type": "stream",
          "name": "stdout",
          "text": [
            "Maximum element in the 2D list: 9\n"
          ]
        }
      ]
    },
    {
      "cell_type": "code",
      "source": [
        "#15. Remove all occurrences of a specific element from a list:\n",
        "def remove_element(list1, element):\n",
        "    new_list = []\n",
        "    for item in list1:\n",
        "        if item != element:\n",
        "            new_list.append(item)\n",
        "    return new_list\n",
        "\n",
        "# Example: removing all occurrences of the element 5 from the list [1, 2, 3, 4, 5, 1, 2, 5, 3]\n",
        "list1 = [1, 2, 3, 4, 5, 1, 2, 5, 3]\n",
        "element = 5\n",
        "print(\"Original list:\", list1)\n",
        "print(\"After removing\", element, \"from the list:\", remove_element(list1, element))\n"
      ],
      "metadata": {
        "colab": {
          "base_uri": "https://localhost:8080/"
        },
        "id": "Xn-apULMIiCF",
        "outputId": "cc553b53-c0d4-42d6-e99a-8eddc76dc2bd"
      },
      "execution_count": 7,
      "outputs": [
        {
          "output_type": "stream",
          "name": "stdout",
          "text": [
            "Original list: [1, 2, 3, 4, 5, 1, 2, 5, 3]\n",
            "After removing 5 from the list: [1, 2, 3, 4, 1, 2, 3]\n"
          ]
        }
      ]
    },
    {
      "cell_type": "code",
      "source": [
        "#16. Generate multiplication table:\n",
        "def multiplication_table(n):\n",
        "    for i in range(1, n + 1):\n",
        "        for j in range(1, n + 1):\n",
        "            print(i * j, end=\" \")\n",
        "        print()\n",
        "\n",
        "# Example: generating a multiplication table for numbers from 1 to 5\n",
        "multiplication_table(5)\n"
      ],
      "metadata": {
        "colab": {
          "base_uri": "https://localhost:8080/"
        },
        "id": "ijAe7AbfImRH",
        "outputId": "ec4b4c5c-99c7-4264-d410-fb0ccb30291a"
      },
      "execution_count": 8,
      "outputs": [
        {
          "output_type": "stream",
          "name": "stdout",
          "text": [
            "1 2 3 4 5 \n",
            "2 4 6 8 10 \n",
            "3 6 9 12 15 \n",
            "4 8 12 16 20 \n",
            "5 10 15 20 25 \n"
          ]
        }
      ]
    },
    {
      "cell_type": "code",
      "source": [
        "# 17. Convert Fahrenheit to Celsius:\n",
        "def fahrenheit_to_celsius(fahrenheit):\n",
        "    celsius = (fahrenheit - 32) * 5 / 9\n",
        "    return celsius\n",
        "\n",
        "# Example: converting 98.6 degrees Fahrenheit to Celsius\n",
        "fahrenheit = 98.6\n",
        "print(\"Fahrenheit:\", fahrenheit, \"degrees\")\n",
        "print(\"Celsius:\", fahrenheit_to_celsius(fahrenheit), \"degrees\")\n"
      ],
      "metadata": {
        "colab": {
          "base_uri": "https://localhost:8080/"
        },
        "id": "Z4s2R4azIqY8",
        "outputId": "a0b4af79-bb00-41c8-f198-1c9767787279"
      },
      "execution_count": 9,
      "outputs": [
        {
          "output_type": "stream",
          "name": "stdout",
          "text": [
            "Fahrenheit: 98.6 degrees\n",
            "Celsius: 37.0 degrees\n"
          ]
        }
      ]
    },
    {
      "cell_type": "code",
      "source": [
        "#18. Print common elements from two lists:\n",
        "def find_common_elements(list1, list2):\n",
        "    common_elements = []\n",
        "    for element in list1:\n",
        "        if element in list2:\n",
        "            common_elements.append(element)\n",
        "    return common_elements\n",
        "\n",
        "# Example: finding common elements from the lists [1, 2, 3, 4, 5] and [3, 4, 5, 6, 7]\n",
        "list1 = [1, 2, 3, 4, 5]\n",
        "list2 = [3, 4, 5, 6, 7]\n",
        "print(\"Common elements in\", list1, \"and\", list2, \":\", find_common_elements(list1, list2))\n"
      ],
      "metadata": {
        "colab": {
          "base_uri": "https://localhost:8080/"
        },
        "id": "sqruDOYEIvA9",
        "outputId": "760397e8-fe7a-4582-a07c-c816b1624bce"
      },
      "execution_count": 10,
      "outputs": [
        {
          "output_type": "stream",
          "name": "stdout",
          "text": [
            "Common elements in [1, 2, 3, 4, 5] and [3, 4, 5, 6, 7] : [3, 4, 5]\n"
          ]
        }
      ]
    },
    {
      "cell_type": "code",
      "source": [
        "# 19. Print right-angled triangles using asterisks:\n",
        "def print_right_triangles(n):\n",
        "    for i in range(1, n + 1):\n",
        "        for j in range(1, i + 1):\n",
        "            print(\"*\", end=\" \")\n",
        "        print()\n",
        "\n",
        "# Example: printing right-angled triangles with a height of 5\n",
        "print_right_triangles(5)\n"
      ],
      "metadata": {
        "colab": {
          "base_uri": "https://localhost:8080/"
        },
        "id": "h1nxIOgNIzDl",
        "outputId": "94672485-8b13-4b79-ebe4-82b33e31922c"
      },
      "execution_count": 11,
      "outputs": [
        {
          "output_type": "stream",
          "name": "stdout",
          "text": [
            "* \n",
            "* * \n",
            "* * * \n",
            "* * * * \n",
            "* * * * * \n"
          ]
        }
      ]
    },
    {
      "cell_type": "code",
      "source": [
        "#20. Find greatest common divisor (GCD) of two numbers:\n",
        "def gcd(a, b):\n",
        "    while b:\n",
        "        a, b = b, a % b\n",
        "    return a\n",
        "\n",
        "# Example: finding the GCD of 12 and 18\n",
        "a = 12\n",
        "b = 18\n",
        "print(\"GCD of\", a, \"and\", b, \":\", gcd(a, b))\n"
      ],
      "metadata": {
        "colab": {
          "base_uri": "https://localhost:8080/"
        },
        "id": "Ish31O7HI6Tp",
        "outputId": "2faf7237-fcc2-4b54-c0de-f782ed1948ab"
      },
      "execution_count": 12,
      "outputs": [
        {
          "output_type": "stream",
          "name": "stdout",
          "text": [
            "GCD of 12 and 18 : 6\n"
          ]
        }
      ]
    },
    {
      "cell_type": "code",
      "source": [
        "# Advanced Level:"
      ],
      "metadata": {
        "id": "fqRU49l4I-75"
      },
      "execution_count": 13,
      "outputs": []
    },
    {
      "cell_type": "code",
      "source": [
        "# 21. Calculate the sum of the digits of numbers in a list using a list comprehension\n",
        "\n",
        "def sum_of_digits(numbers):\n",
        "    return sum([int(digit) for number in numbers for digit in str(number)])\n",
        "\n",
        "numbers = [123, 456, 789]\n",
        "print(sum_of_digits(numbers))\n"
      ],
      "metadata": {
        "colab": {
          "base_uri": "https://localhost:8080/"
        },
        "id": "HwLk8sgxJUjR",
        "outputId": "a39a93f1-8b98-41ec-de68-927d4aa19925"
      },
      "execution_count": 14,
      "outputs": [
        {
          "output_type": "stream",
          "name": "stdout",
          "text": [
            "45\n"
          ]
        }
      ]
    },
    {
      "cell_type": "code",
      "source": [
        "# 22. Find the prime factors of a given number using a for loop and list comprehension\n",
        "\n",
        "def prime_factors(number):\n",
        "    factors = []\n",
        "    for i in range(2, number + 1):\n",
        "        if number % i == 0:\n",
        "            while number % i == 0:\n",
        "                factors.append(i)\n",
        "                number //= i\n",
        "    return factors\n",
        "\n",
        "print(prime_factors(12))\n",
        "print(prime_factors(25))\n"
      ],
      "metadata": {
        "colab": {
          "base_uri": "https://localhost:8080/"
        },
        "id": "jZYO1l9nJY0C",
        "outputId": "0f14849f-d3c4-49ee-9c62-763a3a37d3be"
      },
      "execution_count": 15,
      "outputs": [
        {
          "output_type": "stream",
          "name": "stdout",
          "text": [
            "[2, 2, 3]\n",
            "[5, 5]\n"
          ]
        }
      ]
    },
    {
      "cell_type": "code",
      "source": [
        "# 23. Extract unique elements from a list and store them in a new list using a list comprehension\n",
        "\n",
        "def unique_elements(list1):\n",
        "    return [x for x in list1 if list1.count(x) == 1]\n",
        "\n",
        "list1 = [1, 2, 3, 4, 5, 1, 2, 3]\n",
        "print(unique_elements(list1))\n"
      ],
      "metadata": {
        "colab": {
          "base_uri": "https://localhost:8080/"
        },
        "id": "4UBisiUsJbmj",
        "outputId": "7e557e9b-c481-44a7-aa08-fee6aa788889"
      },
      "execution_count": 16,
      "outputs": [
        {
          "output_type": "stream",
          "name": "stdout",
          "text": [
            "[4, 5]\n"
          ]
        }
      ]
    },
    {
      "cell_type": "code",
      "source": [
        "# 24. Generate a list of all palindromic numbers up to a specified limit using a list comprehension\n",
        "\n",
        "def palindromic_numbers(limit):\n",
        "    return [x for x in range(1, limit + 1) if str(x) == str(x)[::-1]]\n",
        "\n",
        "print(palindromic_numbers(100))\n"
      ],
      "metadata": {
        "colab": {
          "base_uri": "https://localhost:8080/"
        },
        "id": "7t4nOEB6JiRD",
        "outputId": "30af8682-2aa1-4338-c495-0fb7299c024c"
      },
      "execution_count": 17,
      "outputs": [
        {
          "output_type": "stream",
          "name": "stdout",
          "text": [
            "[1, 2, 3, 4, 5, 6, 7, 8, 9, 11, 22, 33, 44, 55, 66, 77, 88, 99]\n"
          ]
        }
      ]
    },
    {
      "cell_type": "code",
      "source": [
        "# 25. Flatten a nested list using list comprehension\n",
        "\n",
        "def flatten_list(nested_list):\n",
        "    return [x for sublist in nested_list for x in sublist]\n",
        "\n",
        "nested_list = [[1, 2, 3], [4, 5, 6], [7, 8, 9]]\n",
        "print(flatten_list(nested_list))\n"
      ],
      "metadata": {
        "colab": {
          "base_uri": "https://localhost:8080/"
        },
        "id": "RE1BT3uKJkvP",
        "outputId": "e787d493-36d1-463e-b42a-448a7741e388"
      },
      "execution_count": 18,
      "outputs": [
        {
          "output_type": "stream",
          "name": "stdout",
          "text": [
            "[1, 2, 3, 4, 5, 6, 7, 8, 9]\n"
          ]
        }
      ]
    },
    {
      "cell_type": "code",
      "source": [
        "# 26. Compute the sum of even and odd numbers in a list separately using list comprehension\n",
        "\n",
        "def sum_of_even_and_odd(numbers):\n",
        "    even_sum = sum([x for x in numbers if x % 2 == 0])\n",
        "    odd_sum = sum([x for x in numbers if x % 2 != 0])\n",
        "    return even_sum, odd_sum\n",
        "\n",
        "numbers = [1, 2, 3, 4, 5, 6, 7, 8, 9, 10]\n",
        "even_sum, odd_sum = sum_of_even_and_odd(numbers)\n",
        "print(\"Sum of even numbers:\", even_sum)\n",
        "print(\"Sum of odd numbers:\", odd_sum)\n"
      ],
      "metadata": {
        "colab": {
          "base_uri": "https://localhost:8080/"
        },
        "id": "t-mVbFBHJpqh",
        "outputId": "93113327-acb5-4f1f-d8c3-4d32e5b75fce"
      },
      "execution_count": 19,
      "outputs": [
        {
          "output_type": "stream",
          "name": "stdout",
          "text": [
            "Sum of even numbers: 30\n",
            "Sum of odd numbers: 25\n"
          ]
        }
      ]
    },
    {
      "cell_type": "code",
      "source": [
        "# 27. Generate a list of squares of odd numbers between 1 and 10 using list comprehension\n",
        "\n",
        "def squares_of_odd_numbers():\n",
        "    return [x * x for x in range(1, 11) if x % 2 != 0]\n",
        "\n",
        "print(squares_of_odd_numbers())\n"
      ],
      "metadata": {
        "colab": {
          "base_uri": "https://localhost:8080/"
        },
        "id": "F058mMSiJsjo",
        "outputId": "49022a48-bc18-4b9b-d834-80447c63f197"
      },
      "execution_count": 20,
      "outputs": [
        {
          "output_type": "stream",
          "name": "stdout",
          "text": [
            "[1, 9, 25, 49, 81]\n"
          ]
        }
      ]
    },
    {
      "cell_type": "code",
      "source": [
        "# 28. Combine two lists into a dictionary using list comprehension\n",
        "\n",
        "def combine_lists_to_dict(keys, values):\n",
        "    return {key: value for key, value in zip(keys, values)}\n",
        "\n",
        "keys = [\"a\", \"b\", \"c\"]\n",
        "values = [1, 2, 3]\n",
        "print(combine_lists_to_dict(keys, values))\n"
      ],
      "metadata": {
        "colab": {
          "base_uri": "https://localhost:8080/"
        },
        "id": "t1jdXs2wJwwn",
        "outputId": "00957b03-614b-4161-d1b9-efc75b9aa098"
      },
      "execution_count": 21,
      "outputs": [
        {
          "output_type": "stream",
          "name": "stdout",
          "text": [
            "{'a': 1, 'b': 2, 'c': 3}\n"
          ]
        }
      ]
    },
    {
      "cell_type": "code",
      "source": [
        "# 29. Extract the vowels from a string and store them in a list using list comprehension\n",
        "\n",
        "def extract_vowels(string):\n",
        "    vowels = [char for char in string if char in \"aeiouAEIOU\"]\n",
        "    return vowels\n",
        "\n",
        "string = \"Hello, World!\"\n",
        "print(extract_vowels(string))\n"
      ],
      "metadata": {
        "colab": {
          "base_uri": "https://localhost:8080/"
        },
        "id": "oNA89P75Jych",
        "outputId": "03c17662-58b2-4a31-9354-8d74f8979a87"
      },
      "execution_count": 22,
      "outputs": [
        {
          "output_type": "stream",
          "name": "stdout",
          "text": [
            "['e', 'o', 'o']\n"
          ]
        }
      ]
    },
    {
      "cell_type": "code",
      "source": [
        "# 30. Remove all non-numeric characters from a list of strings using list comprehension\n",
        "\n",
        "def remove_non_numeric(strings):\n",
        "    return [''.join(char for char in string if char.isdigit()) for string in strings]\n",
        "\n",
        "strings = [\"123\", \"abc\", \"456\", \"def\", \"789\"]\n",
        "print(remove_non_numeric(strings))\n"
      ],
      "metadata": {
        "colab": {
          "base_uri": "https://localhost:8080/"
        },
        "id": "S0lpGecIJ2Pp",
        "outputId": "8597c222-38f3-459d-eb4e-371b78216420"
      },
      "execution_count": 23,
      "outputs": [
        {
          "output_type": "stream",
          "name": "stdout",
          "text": [
            "['123', '', '456', '', '789']\n"
          ]
        }
      ]
    },
    {
      "cell_type": "code",
      "source": [
        "# Challenge Level:"
      ],
      "metadata": {
        "id": "bjU9PW61J5AM"
      },
      "execution_count": 24,
      "outputs": []
    },
    {
      "cell_type": "code",
      "source": [
        "# 31. Generate a list of prime numbers using the Sieve of Eratosthenes algorithm without list comprehension\n",
        "\n",
        "def sieve_of_eratosthenes(limit):\n",
        "  primes = [True] * (limit + 1)\n",
        "  primes[0] = primes[1] = False\n",
        "  for i in range(2, int(limit ** 0.5) + 1):\n",
        "    if primes[i]:\n",
        "      for j in range(i * i, limit + 1, i):\n",
        "        primes[j] = False\n",
        "  prime_numbers = []\n",
        "  for i in range(2, limit + 1):\n",
        "    if primes[i]:\n",
        "      prime_numbers.append(i)\n",
        "  return prime_numbers\n",
        "\n",
        "limit = 100\n",
        "print(\"Prime numbers up to\", limit, \"are:\", sieve_of_eratosthenes(limit))\n",
        "\n",
        "\n",
        "# 32. Generate a list of all Pythagorean triplets up to a specified limit using for loop\n",
        "\n",
        "def pythagorean_triplets(limit):\n",
        "  triplets = []\n",
        "  for a in range(1, limit + 1):\n",
        "    for b in range(a + 1, limit + 1):\n",
        "      for c in range(b + 1, limit + 1):\n",
        "        if a ** 2 + b ** 2 == c ** 2:\n",
        "          triplets.append((a, b, c))\n",
        "  return triplets\n",
        "\n",
        "limit = 10\n",
        "print(\"Pythagorean triplets up to\", limit, \"are:\", pythagorean_triplets(limit))\n",
        "\n",
        "\n",
        "# 33. Generate a list of all possible combinations of two lists using for loop\n",
        "\n",
        "def combinations(list1, list2):\n",
        "  combined = []\n",
        "  for a in list1:\n",
        "    for b in list2:\n",
        "      combined.append((a, b))\n",
        "  return combined\n",
        "\n",
        "list1 = [1, 2, 3]\n",
        "list2 = [4, 5, 6]\n",
        "print(\"All possible combinations of\", list1, \"and\", list2, \"are:\", combinations(list1, list2))\n",
        "\n",
        "\n",
        "# 34. Calculate the mean, median, and mode of a list of numbers using for loop\n",
        "\n",
        "import statistics\n",
        "\n",
        "def mean_median_mode(numbers):\n",
        "  mean = sum(numbers) / len(numbers)\n",
        "  median = statistics.median(numbers)\n",
        "  mode = statistics.mode(numbers)\n",
        "  return mean, median, mode\n",
        "\n",
        "numbers = [1, 2, 3, 4, 5, 6, 7, 8, 9, 10]\n",
        "print(\"Mean, median, and mode of\", numbers, \"are:\", mean_median_mode(numbers))\n",
        "\n",
        "\n",
        "# 35. Generate Pascal's triangle up to a specified number of rows using for loop\n",
        "\n",
        "def pascal_triangle(rows):\n",
        "  triangle = []\n",
        "  for i in range(rows):\n",
        "    row = [1] * (i + 1)\n",
        "    triangle.append(row)\n",
        "  return triangle\n",
        "\n",
        "rows = 5\n",
        "print(\"Pascal's triangle up to\", rows, \"rows is:\")\n",
        "for row in pascal_triangle(rows):\n",
        "  print(row)\n",
        "\n",
        "\n",
        "# 36. Calculate the sum of the digits of a factorial of numbers from 1 to 5 using for loop\n",
        "\n",
        "import math\n",
        "\n",
        "def sum_of_digits_factorial(limit):\n",
        "  total_sum = 0\n",
        "  for i in range(1, limit + 1):\n",
        "    factorial = math.factorial(i)\n",
        "    total_sum += sum(int(digit) for digit in str(factorial))\n",
        "  return total_sum\n",
        "\n",
        "limit = 5\n",
        "print(\"Sum of the digits of factorial of numbers from 1 to\", limit, \"is:\", sum_of_digits_factorial(limit))\n",
        "\n",
        "\n",
        "# 37. Find the longest word in a sentence using for loop\n",
        "\n",
        "def longest_word(sentence):\n",
        "  words = sentence.split()\n",
        "  longest = \"\"\n",
        "  for word in words:\n",
        "    if len(word) > len(longest):\n",
        "      longest = word\n",
        "  return longest\n",
        "\n",
        "sentence = \"The quick brown fox jumps over the lazy dog\"\n",
        "print(\"Longest word in\", sentence, \"is:\", longest_word(sentence))\n",
        "\n",
        "\n",
        "# 38. Filter a list of strings to include only those with more than three vowels using for loop\n",
        "\n",
        "def count_vowels(word):\n",
        "  vowels = 'aeiou'\n",
        "  count = 0\n",
        "  for char in word:\n",
        "    if char in vowels:\n",
        "      count += 1\n",
        "  return count\n",
        "\n",
        "def filter_vowels(strings):\n",
        "  filtered = []\n",
        "  for string in strings:\n",
        "    if count_vowels(string) > 3:\n",
        "      filtered.append(string)\n",
        "  return filtered\n",
        "\n",
        "strings = [\"apple\", \"banana\", \"cherry\", \"durian\", \"elderberry\", \"fig\"]\n",
        "print(\"Strings with more than three vowels:\", filter_vowels(strings))\n",
        "\n",
        "\n",
        "# 39. Calculate the sum of the digits of numbers from 1 to 1000 using for loop\n",
        "\n",
        "def sum_of_digits_1_to_1000():\n",
        "  total_sum = 0\n",
        "  for number in range(1, 1001):\n",
        "    total_sum += sum(int(digit) for digit in str(number))\n",
        "  return total_sum\n",
        "\n",
        "print(\"Sum of the digits of numbers from 1 to 1000 is:\", sum_of_digits_1_to_1000())\n",
        "\n",
        "\n",
        "# 40. Generate a list of prime palindromic numbers using for loop\n",
        "\n",
        "def is_prime(number):\n",
        "  if number < 2:\n",
        "    return False\n",
        "  for i in range(2, int(number ** 0.5) + 1):\n",
        "    if number % i == 0:\n",
        "      return False\n",
        "  return True\n",
        "\n",
        "def is_palindrome(number):\n",
        "  return str(number) == str(number)[::-1]\n",
        "\n",
        "def prime_palindromic_numbers(limit):\n",
        "  prime_palindromic_numbers = []\n",
        "  for i in range(1, limit + 1):\n",
        "    if is_prime(i) and is_palindrome(i):\n",
        "      prime_palindromic_numbers.append(i)\n",
        "  return prime_palindromic_numbers\n",
        "\n",
        "limit = 100\n",
        "print(\"Prime palindromic numbers up to\", limit, \"are:\", prime_palindromic_numbers(limit))\n"
      ],
      "metadata": {
        "id": "p_cYHeipJ-dw"
      },
      "execution_count": null,
      "outputs": []
    }
  ]
}